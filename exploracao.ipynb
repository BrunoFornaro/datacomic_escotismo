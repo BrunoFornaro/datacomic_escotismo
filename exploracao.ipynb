{
 "cells": [
  {
   "cell_type": "markdown",
   "metadata": {},
   "source": [
    "# Exploração dos dados\n",
    "\n",
    "## Bibliotecas necessárias\n",
    "\n",
    "Começamos importando as bibliotecas necessárias"
   ]
  },
  {
   "cell_type": "code",
   "execution_count": 1,
   "metadata": {},
   "outputs": [],
   "source": [
    "import pandas as pd\n",
    "import numpy as np\n",
    "import matplotlib.pyplot as plt\n",
    "import seaborn as sns\n",
    "import altair as alt"
   ]
  },
  {
   "cell_type": "markdown",
   "metadata": {},
   "source": [
    "## Base de dados\n",
    "\n",
    "Com isso, importamos a base de dados de um arquivo CSV, que foi préviamente tratado no `Excel`."
   ]
  },
  {
   "cell_type": "code",
   "execution_count": 2,
   "metadata": {},
   "outputs": [],
   "source": [
    "df = pd.read_csv(\"organizacoes_escoteiras.csv\", sep=\";\", encoding=\"UTF-8\")"
   ]
  },
  {
   "cell_type": "markdown",
   "metadata": {},
   "source": [
    "## Transformação nos dados\n",
    "\n",
    "Primeiro, verificamos as colunas do `dataframe`, para garantir que vamos trabalhar com os nomes corretos"
   ]
  },
  {
   "cell_type": "code",
   "execution_count": 3,
   "metadata": {},
   "outputs": [
    {
     "data": {
      "text/plain": [
       "Index(['pais', 'mebros', 'nome_da_organizacao', 'ingresso_na_wosm',\n",
       "       'organizacao_membro_fundada', 'admite'],\n",
       "      dtype='object')"
      ]
     },
     "execution_count": 3,
     "metadata": {},
     "output_type": "execute_result"
    }
   ],
   "source": [
    "df.columns"
   ]
  },
  {
   "cell_type": "markdown",
   "metadata": {},
   "source": [
    "Podemos ver abaixo que há dados faltantes na base"
   ]
  },
  {
   "cell_type": "code",
   "execution_count": 4,
   "metadata": {},
   "outputs": [
    {
     "data": {
      "text/html": [
       "<div>\n",
       "<style scoped>\n",
       "    .dataframe tbody tr th:only-of-type {\n",
       "        vertical-align: middle;\n",
       "    }\n",
       "\n",
       "    .dataframe tbody tr th {\n",
       "        vertical-align: top;\n",
       "    }\n",
       "\n",
       "    .dataframe thead th {\n",
       "        text-align: right;\n",
       "    }\n",
       "</style>\n",
       "<table border=\"1\" class=\"dataframe\">\n",
       "  <thead>\n",
       "    <tr style=\"text-align: right;\">\n",
       "      <th></th>\n",
       "      <th>pais</th>\n",
       "      <th>mebros</th>\n",
       "      <th>nome_da_organizacao</th>\n",
       "      <th>ingresso_na_wosm</th>\n",
       "      <th>organizacao_membro_fundada</th>\n",
       "      <th>admite</th>\n",
       "    </tr>\n",
       "  </thead>\n",
       "  <tbody>\n",
       "    <tr>\n",
       "      <th>39</th>\n",
       "      <td>Croatia</td>\n",
       "      <td>3,483</td>\n",
       "      <td>Savez izviđača Hrvatske</td>\n",
       "      <td>1993.0</td>\n",
       "      <td>1915.0</td>\n",
       "      <td>both</td>\n",
       "    </tr>\n",
       "    <tr>\n",
       "      <th>40</th>\n",
       "      <td>Curaçao</td>\n",
       "      <td>1,143</td>\n",
       "      <td>Scouting Antiano</td>\n",
       "      <td>2016.0</td>\n",
       "      <td>1997.0</td>\n",
       "      <td>both</td>\n",
       "    </tr>\n",
       "    <tr>\n",
       "      <th>41</th>\n",
       "      <td>Sint Maarten</td>\n",
       "      <td>NaN</td>\n",
       "      <td>NaN</td>\n",
       "      <td>NaN</td>\n",
       "      <td>NaN</td>\n",
       "      <td>NaN</td>\n",
       "    </tr>\n",
       "    <tr>\n",
       "      <th>42</th>\n",
       "      <td>Caribbean Netherlands</td>\n",
       "      <td>NaN</td>\n",
       "      <td>NaN</td>\n",
       "      <td>NaN</td>\n",
       "      <td>NaN</td>\n",
       "      <td>NaN</td>\n",
       "    </tr>\n",
       "    <tr>\n",
       "      <th>43</th>\n",
       "      <td>Cyprus</td>\n",
       "      <td>5,522</td>\n",
       "      <td>Cyprus Scouts Association</td>\n",
       "      <td>1961.0</td>\n",
       "      <td>1913.0</td>\n",
       "      <td>both</td>\n",
       "    </tr>\n",
       "    <tr>\n",
       "      <th>44</th>\n",
       "      <td>Czech Republic</td>\n",
       "      <td>67,959</td>\n",
       "      <td>Junák - český skaut, z. s.</td>\n",
       "      <td>1922.0</td>\n",
       "      <td>1911.0</td>\n",
       "      <td>both</td>\n",
       "    </tr>\n",
       "  </tbody>\n",
       "</table>\n",
       "</div>"
      ],
      "text/plain": [
       "                     pais  mebros         nome_da_organizacao  \\\n",
       "39                Croatia   3,483     Savez izviđača Hrvatske   \n",
       "40                Curaçao   1,143            Scouting Antiano   \n",
       "41           Sint Maarten     NaN                         NaN   \n",
       "42  Caribbean Netherlands     NaN                         NaN   \n",
       "43                 Cyprus   5,522   Cyprus Scouts Association   \n",
       "44         Czech Republic  67,959  Junák - český skaut, z. s.   \n",
       "\n",
       "    ingresso_na_wosm  organizacao_membro_fundada admite  \n",
       "39            1993.0                      1915.0   both  \n",
       "40            2016.0                      1997.0   both  \n",
       "41               NaN                         NaN    NaN  \n",
       "42               NaN                         NaN    NaN  \n",
       "43            1961.0                      1913.0   both  \n",
       "44            1922.0                      1911.0   both  "
      ]
     },
     "execution_count": 4,
     "metadata": {},
     "output_type": "execute_result"
    }
   ],
   "source": [
    "df.iloc[39:45]"
   ]
  },
  {
   "cell_type": "markdown",
   "metadata": {},
   "source": [
    "Realizamos abaixo uma tranformação nos dados, onde queremos uma contagem do número de países que passou a ter um órgão nacional escoteiro reconhecido, assim como aqueles nos quais o órgão nacional passou a fazer parte da [WOSM](https://www.scout.org/) (o órgão mundial). Devemos lembrar de não considerar os dados faltantes (`NaN`), pois eles surgiram por conta da formatação dos dados orginais."
   ]
  },
  {
   "cell_type": "code",
   "execution_count": 5,
   "metadata": {},
   "outputs": [],
   "source": [
    "data = {\n",
    "    \"ingresso_na_wosm\": {},\n",
    "    \"organizacao_membro_fundada\": {},\n",
    "}\n",
    "for index, line in df.dropna().iterrows():\n",
    "    for key in data.keys():\n",
    "        data[key][int(line[key])] = 0\n",
    "\n",
    "for index, line in df.dropna().iterrows():\n",
    "    for key in data.keys():\n",
    "        data[key][int(line[key])] += 1\n"
   ]
  },
  {
   "cell_type": "markdown",
   "metadata": {},
   "source": [
    "Agora, verificamos a menor data nos dados:"
   ]
  },
  {
   "cell_type": "code",
   "execution_count": 6,
   "metadata": {},
   "outputs": [
    {
     "name": "stdout",
     "output_type": "stream",
     "text": [
      "Organização membro fundada: 1907\n",
      "Ingresso na WOSM: 1922\n"
     ]
    }
   ],
   "source": [
    "print(\"Organização membro fundada: \", end=\"\")\n",
    "print(min(list(data[\"organizacao_membro_fundada\"].keys())))\n",
    "print(\"Ingresso na WOSM: \", end=\"\")\n",
    "print(min(list(data[\"ingresso_na_wosm\"].keys())))"
   ]
  },
  {
   "cell_type": "markdown",
   "metadata": {},
   "source": [
    "Com isso, conseguimos obter abaixo os dados acumulados:"
   ]
  },
  {
   "cell_type": "code",
   "execution_count": 7,
   "metadata": {},
   "outputs": [],
   "source": [
    "data = np.zeros((116,2))\n",
    "for index, line in df.dropna().iterrows():\n",
    "    data[int(line[\"ingresso_na_wosm\"]) - 1907, 0] += 1\n",
    "    data[int(line[\"organizacao_membro_fundada\"]) - 1907, 1] += 1\n",
    "\n",
    "data = pd.DataFrame(data, columns=[\"ingresso\", \"fundacao\"], index=range(1907, 2023))\n",
    "\n",
    "data[\"ingresso_cumulativo\"] = 0\n",
    "data[\"fundacao_cumulativa\"] = 0\n",
    "\n",
    "for index, line in data.iterrows():\n",
    "    data.loc[index, \"ingresso_cumulativo\"] = data.loc[:index, \"ingresso\"].sum()\n",
    "    data.loc[index, \"fundacao_cumulativa\"] = data.loc[:index, \"fundacao\"].sum()\n"
   ]
  },
  {
   "cell_type": "markdown",
   "metadata": {},
   "source": [
    "## Exploração dos dados\n",
    "\n",
    "Abaixo plotamos o gráfico de linhas onde observamos o número acumulado de países que tiveram um órgão nacional escoteiro reconhecido, e também o número acumulado de países cujo esse orgão escoteiro se associou a WOSM."
   ]
  },
  {
   "cell_type": "code",
   "execution_count": 8,
   "metadata": {},
   "outputs": [
    {
     "data": {
      "text/plain": [
       "<AxesSubplot:>"
      ]
     },
     "execution_count": 8,
     "metadata": {},
     "output_type": "execute_result"
    },
    {
     "data": {
      "image/png": "[encoded data removed]",
      "text/plain": [
       "<Figure size 432x288 with 1 Axes>"
      ]
     },
     "metadata": {
      "needs_background": "light"
     },
     "output_type": "display_data"
    }
   ],
   "source": [
    "\n",
    "sns.lineplot(data=data[[\"fundacao_cumulativa\", \"ingresso_cumulativo\"]])"
   ]
  },
  {
   "cell_type": "markdown",
   "metadata": {},
   "source": [
    "Após ver o gráfico acima, separamos o que é mais adequado para trabalharmos, de acordo com a ideia inicial, realizamos mais um pequeno filtro nos dados e plotamos o gráfico final que deve ser utilizado para fazer o desenho:"
   ]
  },
  {
   "cell_type": "code",
   "execution_count": 9,
   "metadata": {},
   "outputs": [
    {
     "data": {
      "text/plain": [
       "<AxesSubplot:>"
      ]
     },
     "execution_count": 9,
     "metadata": {},
     "output_type": "execute_result"
    },
    {
     "data": {
      "image/png": "[encoded data removed]",
      "text/plain": [
       "<Figure size 432x288 with 1 Axes>"
      ]
     },
     "metadata": {
      "needs_background": "light"
     },
     "output_type": "display_data"
    }
   ],
   "source": [
    "sns.lineplot(data=data.iloc[15:][[\"ingresso_cumulativo\"]])"
   ]
  }
 ],
 "metadata": {
  "kernelspec": {
   "display_name": "Python 3.8.10 64-bit",
   "language": "python",
   "name": "python3"
  },
  "language_info": {
   "codemirror_mode": {
    "name": "ipython",
    "version": 3
   },
   "file_extension": ".py",
   "mimetype": "text/x-python",
   "name": "python",
   "nbconvert_exporter": "python",
   "pygments_lexer": "ipython3",
   "version": "3.8.10"
  },
  "orig_nbformat": 4,
  "vscode": {
   "interpreter": {
    "hash": "31f2aee4e71d21fbe5cf8b01ff0e069b9275f58929596ceb00d14d90e3e16cd6"
   }
  }
 },
 "nbformat": 4,
 "nbformat_minor": 2
}
